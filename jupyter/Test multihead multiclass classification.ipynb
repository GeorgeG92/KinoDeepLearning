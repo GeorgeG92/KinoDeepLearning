{
 "cells": [
  {
   "cell_type": "code",
   "execution_count": 1,
   "metadata": {},
   "outputs": [
    {
     "name": "stdout",
     "output_type": "stream",
     "text": [
      "(827559, 153)\n"
     ]
    },
    {
     "data": {
      "text/html": [
       "<div>\n",
       "<style scoped>\n",
       "    .dataframe tbody tr th:only-of-type {\n",
       "        vertical-align: middle;\n",
       "    }\n",
       "\n",
       "    .dataframe tbody tr th {\n",
       "        vertical-align: top;\n",
       "    }\n",
       "\n",
       "    .dataframe thead th {\n",
       "        text-align: right;\n",
       "    }\n",
       "</style>\n",
       "<table border=\"1\" class=\"dataframe\">\n",
       "  <thead>\n",
       "    <tr style=\"text-align: right;\">\n",
       "      <th></th>\n",
       "      <th>id</th>\n",
       "      <th>WinNo1</th>\n",
       "      <th>WinNo2</th>\n",
       "      <th>WinNo3</th>\n",
       "      <th>WinNo4</th>\n",
       "      <th>WinNo5</th>\n",
       "      <th>WinNo6</th>\n",
       "      <th>WinNo7</th>\n",
       "      <th>WinNo8</th>\n",
       "      <th>WinNo9</th>\n",
       "      <th>...</th>\n",
       "      <th>e_sinId%43</th>\n",
       "      <th>e_cosId%43</th>\n",
       "      <th>sq_sinId%43</th>\n",
       "      <th>sq_cosId%43</th>\n",
       "      <th>sinId%47</th>\n",
       "      <th>cosId%47</th>\n",
       "      <th>e_sinId%47</th>\n",
       "      <th>e_cosId%47</th>\n",
       "      <th>sq_sinId%47</th>\n",
       "      <th>sq_cosId%47</th>\n",
       "    </tr>\n",
       "  </thead>\n",
       "  <tbody>\n",
       "    <tr>\n",
       "      <th>0</th>\n",
       "      <td>1</td>\n",
       "      <td>2</td>\n",
       "      <td>5</td>\n",
       "      <td>7</td>\n",
       "      <td>8</td>\n",
       "      <td>22</td>\n",
       "      <td>33</td>\n",
       "      <td>38</td>\n",
       "      <td>44</td>\n",
       "      <td>46</td>\n",
       "      <td>...</td>\n",
       "      <td>1.156735</td>\n",
       "      <td>2.689468</td>\n",
       "      <td>0.021200</td>\n",
       "      <td>0.978800</td>\n",
       "      <td>0.133287</td>\n",
       "      <td>0.991077</td>\n",
       "      <td>1.142578</td>\n",
       "      <td>2.694136</td>\n",
       "      <td>0.017765</td>\n",
       "      <td>0.982235</td>\n",
       "    </tr>\n",
       "    <tr>\n",
       "      <th>1</th>\n",
       "      <td>2</td>\n",
       "      <td>1</td>\n",
       "      <td>9</td>\n",
       "      <td>11</td>\n",
       "      <td>14</td>\n",
       "      <td>33</td>\n",
       "      <td>37</td>\n",
       "      <td>41</td>\n",
       "      <td>42</td>\n",
       "      <td>43</td>\n",
       "      <td>...</td>\n",
       "      <td>1.333889</td>\n",
       "      <td>2.605437</td>\n",
       "      <td>0.083001</td>\n",
       "      <td>0.916999</td>\n",
       "      <td>0.264195</td>\n",
       "      <td>0.964469</td>\n",
       "      <td>1.302383</td>\n",
       "      <td>2.623395</td>\n",
       "      <td>0.069799</td>\n",
       "      <td>0.930201</td>\n",
       "    </tr>\n",
       "    <tr>\n",
       "      <th>2</th>\n",
       "      <td>3</td>\n",
       "      <td>1</td>\n",
       "      <td>2</td>\n",
       "      <td>5</td>\n",
       "      <td>8</td>\n",
       "      <td>13</td>\n",
       "      <td>16</td>\n",
       "      <td>19</td>\n",
       "      <td>21</td>\n",
       "      <td>34</td>\n",
       "      <td>...</td>\n",
       "      <td>1.528760</td>\n",
       "      <td>2.473040</td>\n",
       "      <td>0.180164</td>\n",
       "      <td>0.819836</td>\n",
       "      <td>0.390389</td>\n",
       "      <td>0.920650</td>\n",
       "      <td>1.477556</td>\n",
       "      <td>2.510922</td>\n",
       "      <td>0.152404</td>\n",
       "      <td>0.847596</td>\n",
       "    </tr>\n",
       "    <tr>\n",
       "      <th>3</th>\n",
       "      <td>4</td>\n",
       "      <td>1</td>\n",
       "      <td>3</td>\n",
       "      <td>6</td>\n",
       "      <td>12</td>\n",
       "      <td>17</td>\n",
       "      <td>24</td>\n",
       "      <td>25</td>\n",
       "      <td>26</td>\n",
       "      <td>40</td>\n",
       "      <td>...</td>\n",
       "      <td>1.736320</td>\n",
       "      <td>2.302505</td>\n",
       "      <td>0.304448</td>\n",
       "      <td>0.695552</td>\n",
       "      <td>0.509617</td>\n",
       "      <td>0.860402</td>\n",
       "      <td>1.664653</td>\n",
       "      <td>2.364110</td>\n",
       "      <td>0.259709</td>\n",
       "      <td>0.740291</td>\n",
       "    </tr>\n",
       "    <tr>\n",
       "      <th>4</th>\n",
       "      <td>5</td>\n",
       "      <td>6</td>\n",
       "      <td>7</td>\n",
       "      <td>8</td>\n",
       "      <td>21</td>\n",
       "      <td>30</td>\n",
       "      <td>32</td>\n",
       "      <td>35</td>\n",
       "      <td>37</td>\n",
       "      <td>39</td>\n",
       "      <td>...</td>\n",
       "      <td>1.949005</td>\n",
       "      <td>2.105962</td>\n",
       "      <td>0.445314</td>\n",
       "      <td>0.554686</td>\n",
       "      <td>0.619750</td>\n",
       "      <td>0.784799</td>\n",
       "      <td>1.858463</td>\n",
       "      <td>2.191967</td>\n",
       "      <td>0.384090</td>\n",
       "      <td>0.615910</td>\n",
       "    </tr>\n",
       "  </tbody>\n",
       "</table>\n",
       "<p>5 rows × 153 columns</p>\n",
       "</div>"
      ],
      "text/plain": [
       "   id  WinNo1  WinNo2  WinNo3  WinNo4  WinNo5  WinNo6  WinNo7  WinNo8  WinNo9  \\\n",
       "0   1       2       5       7       8      22      33      38      44      46   \n",
       "1   2       1       9      11      14      33      37      41      42      43   \n",
       "2   3       1       2       5       8      13      16      19      21      34   \n",
       "3   4       1       3       6      12      17      24      25      26      40   \n",
       "4   5       6       7       8      21      30      32      35      37      39   \n",
       "\n",
       "   ...  e_sinId%43  e_cosId%43  sq_sinId%43  sq_cosId%43  sinId%47  cosId%47  \\\n",
       "0  ...    1.156735    2.689468     0.021200     0.978800  0.133287  0.991077   \n",
       "1  ...    1.333889    2.605437     0.083001     0.916999  0.264195  0.964469   \n",
       "2  ...    1.528760    2.473040     0.180164     0.819836  0.390389  0.920650   \n",
       "3  ...    1.736320    2.302505     0.304448     0.695552  0.509617  0.860402   \n",
       "4  ...    1.949005    2.105962     0.445314     0.554686  0.619750  0.784799   \n",
       "\n",
       "   e_sinId%47  e_cosId%47  sq_sinId%47  sq_cosId%47  \n",
       "0    1.142578    2.694136     0.017765     0.982235  \n",
       "1    1.302383    2.623395     0.069799     0.930201  \n",
       "2    1.477556    2.510922     0.152404     0.847596  \n",
       "3    1.664653    2.364110     0.259709     0.740291  \n",
       "4    1.858463    2.191967     0.384090     0.615910  \n",
       "\n",
       "[5 rows x 153 columns]"
      ]
     },
     "execution_count": 1,
     "metadata": {},
     "output_type": "execute_result"
    }
   ],
   "source": [
    "import numpy as np\n",
    "import pandas as pd\n",
    "import os\n",
    "import time\n",
    "import random\n",
    "from sklearn.model_selection import train_test_split\n",
    "\n",
    "featuresDf = pd.read_csv(os.path.join('..', 'features', 'featuresFull.csv'))\n",
    "print(featuresDf.shape)\n",
    "featuresDf.head()"
   ]
  },
  {
   "cell_type": "code",
   "execution_count": 21,
   "metadata": {},
   "outputs": [
    {
     "name": "stdout",
     "output_type": "stream",
     "text": [
      "\tCreating dictionaries for batchPrep\n"
     ]
    }
   ],
   "source": [
    "seqFDict = {}\n",
    "contFDict = {}\n",
    "winNumbersTDict = {}\n",
    "winNos = 20\n",
    "lookback = 10\n",
    "batchesNo=1\n",
    "batchsize = 100\n",
    "\n",
    "def getPastWinningNumbers(datavalues, drawId): \n",
    "    \"\"\"Processes arguments and performs validity checks\n",
    "    Args:\n",
    "        datavalues: a numpy array of all past winning numbers\n",
    "        drawId: the id of the draw we want past winning numbers for\n",
    "    Returns:\n",
    "        A slice of the input that contains lookback draws of winning numbers,\n",
    "         e.g for draw 12 and lookback 5 it contains a (5,20) matrix\n",
    "    \"\"\"\n",
    "    return datavalues[int(drawId-lookback):drawId, 1:winNos+1]\n",
    "\n",
    "def prepareData(data):\n",
    "    \"\"\" Prepares the dictionaries that will be used during batch prep\n",
    "        and defined train, eval and test examples\n",
    "    Args:\n",
    "    data: \n",
    "    \"\"\"\n",
    "    print(\"\\tCreating dictionaries for batchPrep\")\n",
    "    datavalues = data.values\n",
    "    for example in [x for x in data.iloc[lookback:].values]:\n",
    "        drawId = int(example[0])\n",
    "        seqFDict[drawId] = getPastWinningNumbers(datavalues,drawId)          # get previous 'lookback' times winning numbers\n",
    "        contFDict[drawId] = example[winNos+1:]                            # continuous features\n",
    "        winNumbersTDict[drawId] = example[1:winNos+1].astype(int)                   # the targets (12 numbers)\n",
    "\n",
    "    inputSize = contFDict[drawId].shape[0]\n",
    "    inputSeqSize = seqFDict[drawId].shape\n",
    "    targetSize = winNumbersTDict[drawId].shape[0]                            # 20\n",
    "\n",
    "    # Train/eval/test split\n",
    "    trainDf , testDf = train_test_split(data.iloc[lookback:], train_size=0.8, test_size=0.2)   # 80-10-10 split\n",
    "    testDf, evalDf = train_test_split(testDf, train_size=0.5, test_size=0.5)\n",
    "    trainDrawIds = set(trainDf['id'])\n",
    "    evalDrawIds = set(evalDf['id'])\n",
    "    testDrawIds = set(testDf['id'])\n",
    "    return seqFDict, contFDict, winNumbersTDict, trainDrawIds, evalDrawIds, testDrawIds\n",
    "\n",
    "seqFDict, contFDict, winNumbersTDict, trainDrawIds, evalDrawIds, testDrawIds = prepareData(featuresDf)\n",
    "\n",
    "\n",
    "def batchPrep():\n",
    "    \"\"\" Prepares batches for training using prebuilt dictionaries\n",
    "    Returns:\n",
    "        2-D numpy arrays for continuous/sequence features and targets respectively\n",
    "    \"\"\"\n",
    "    for i in range(batchesNo):\n",
    "        batchDrawIds = random.sample(trainDrawIds, batchsize)\n",
    "        contFeatures = np.array([contFDict[x] for x in batchDrawIds], dtype=object)\n",
    "        seqFeatures = np.array([seqFDict[x] for x in batchDrawIds], dtype=object)\n",
    "        targets = np.array([winNumbersTDict[x] for x in batchDrawIds], dtype=object)\n",
    "        return contFeatures, seqFeatures, targets"
   ]
  },
  {
   "cell_type": "code",
   "execution_count": 67,
   "metadata": {},
   "outputs": [
    {
     "name": "stdout",
     "output_type": "stream",
     "text": [
      "(100, 20) (20,)\n",
      "[1 3 4 14 19 23 26 32 48 49 50 58 60 65 66 69 71 72 73 78]\n"
     ]
    }
   ],
   "source": [
    "# Return one batch\n",
    "\n",
    "contFeatures, seqFeatures, targets = batchPrep()\n",
    "sampleTarget = targets[0]#.reshape(1,targets[0].size)\n",
    "print(targets.shape, sampleTarget.shape)\n",
    "print(sampleTarget)"
   ]
  },
  {
   "cell_type": "code",
   "execution_count": 82,
   "metadata": {},
   "outputs": [
    {
     "data": {
      "text/plain": [
       "array([1, 3, 4, 14, 19, 23, 26, 32, 48, 49, 50, 58, 60, 65, 66, 69, 71,\n",
       "       72, 73, 78], dtype=object)"
      ]
     },
     "execution_count": 82,
     "metadata": {},
     "output_type": "execute_result"
    }
   ],
   "source": [
    "sampleTarget"
   ]
  },
  {
   "cell_type": "code",
   "execution_count": 70,
   "metadata": {
    "scrolled": true
   },
   "outputs": [
    {
     "data": {
      "text/plain": [
       "array(1)"
      ]
     },
     "execution_count": 70,
     "metadata": {},
     "output_type": "execute_result"
    }
   ],
   "source": [
    "sampleTargetValue = np.array(sampleTarget[0])\n",
    "sampleTargetValue"
   ]
  },
  {
   "cell_type": "markdown",
   "metadata": {},
   "source": [
    "# 0D (single value) to 1-hot encoded"
   ]
  },
  {
   "cell_type": "code",
   "execution_count": 98,
   "metadata": {},
   "outputs": [
    {
     "name": "stdout",
     "output_type": "stream",
     "text": [
      "[1 3 4]\n",
      "(1, 80)\n"
     ]
    },
    {
     "data": {
      "text/plain": [
       "array([[1., 0., 0., 0., 0., 0., 0., 0., 0., 0., 0., 0., 0., 0., 0., 0.,\n",
       "        0., 0., 0., 0., 0., 0., 0., 0., 0., 0., 0., 0., 0., 0., 0., 0.,\n",
       "        0., 0., 0., 0., 0., 0., 0., 0., 0., 0., 0., 0., 0., 0., 0., 0.,\n",
       "        0., 0., 0., 0., 0., 0., 0., 0., 0., 0., 0., 0., 0., 0., 0., 0.,\n",
       "        0., 0., 0., 0., 0., 0., 0., 0., 0., 0., 0., 0., 0., 0., 0., 0.]])"
      ]
     },
     "execution_count": 98,
     "metadata": {},
     "output_type": "execute_result"
    }
   ],
   "source": [
    "print(sampleTarget[:3])\n",
    "b = np.zeros((sampleTargetValue.size, 80))\n",
    "b[0,sampleTarget[0]-1] = 1                     # -1: in case we dont want (0,len-1) but (1,len) instead\n",
    "print(b.shape)\n",
    "b"
   ]
  },
  {
   "cell_type": "markdown",
   "metadata": {},
   "source": [
    "# 1D to 2D 1-hot encoded"
   ]
  },
  {
   "cell_type": "code",
   "execution_count": 97,
   "metadata": {},
   "outputs": [
    {
     "name": "stdout",
     "output_type": "stream",
     "text": [
      "[1 3 4]\n",
      "(1, 80)\n"
     ]
    },
    {
     "data": {
      "text/plain": [
       "array([[1., 0., 0., 0., 0., 0., 0., 0., 0., 0., 0., 0., 0., 0., 0., 0.,\n",
       "        0., 0., 0., 0., 0., 0., 0., 0., 0., 0., 0., 0., 0., 0., 0., 0.,\n",
       "        0., 0., 0., 0., 0., 0., 0., 0., 0., 0., 0., 0., 0., 0., 0., 0.,\n",
       "        0., 0., 0., 0., 0., 0., 0., 0., 0., 0., 0., 0., 0., 0., 0., 0.,\n",
       "        0., 0., 0., 0., 0., 0., 0., 0., 0., 0., 0., 0., 0., 0., 0., 0.]])"
      ]
     },
     "execution_count": 97,
     "metadata": {},
     "output_type": "execute_result"
    }
   ],
   "source": [
    "print(sampleTarget[:3])\n",
    "b = np.zeros((sampleTargetValue.size, 80))\n",
    "b[0,sampleTarget[0]-1] = 1                     # -1: in case we dont want (0,len-1) but (1,len) instead\n",
    "print(b.shape)\n",
    "b"
   ]
  },
  {
   "cell_type": "markdown",
   "metadata": {},
   "source": [
    "# 1D to 2D 1-hot encoded"
   ]
  },
  {
   "cell_type": "code",
   "execution_count": 100,
   "metadata": {},
   "outputs": [
    {
     "name": "stdout",
     "output_type": "stream",
     "text": [
      "(20, 80)\n"
     ]
    },
    {
     "data": {
      "text/plain": [
       "array([[1, 0, 0, ..., 0, 0, 0],\n",
       "       [0, 0, 1, ..., 0, 0, 0],\n",
       "       [0, 0, 0, ..., 0, 0, 0],\n",
       "       ...,\n",
       "       [0, 0, 0, ..., 0, 0, 0],\n",
       "       [0, 0, 0, ..., 0, 0, 0],\n",
       "       [0, 0, 0, ..., 1, 0, 0]])"
      ]
     },
     "execution_count": 100,
     "metadata": {},
     "output_type": "execute_result"
    }
   ],
   "source": [
    "targets2 = (np.arange(80) == sampleTarget[...,None]-1).astype(int)\n",
    "print(targets2.shape)\n",
    "targets2"
   ]
  },
  {
   "cell_type": "markdown",
   "metadata": {},
   "source": [
    "# 2D to 3D 1-hot encoded"
   ]
  },
  {
   "cell_type": "code",
   "execution_count": 105,
   "metadata": {},
   "outputs": [
    {
     "name": "stdout",
     "output_type": "stream",
     "text": [
      "(100, 20)\n"
     ]
    }
   ],
   "source": [
    "print(targets.shape) # a whole batch"
   ]
  },
  {
   "cell_type": "code",
   "execution_count": 104,
   "metadata": {
    "scrolled": false
   },
   "outputs": [
    {
     "name": "stdout",
     "output_type": "stream",
     "text": [
      "(100, 20, 80)\n"
     ]
    },
    {
     "data": {
      "text/plain": [
       "array([[[1, 0, 0, ..., 0, 0, 0],\n",
       "        [0, 0, 1, ..., 0, 0, 0],\n",
       "        [0, 0, 0, ..., 0, 0, 0],\n",
       "        ...,\n",
       "        [0, 0, 0, ..., 0, 0, 0],\n",
       "        [0, 0, 0, ..., 0, 0, 0],\n",
       "        [0, 0, 0, ..., 1, 0, 0]],\n",
       "\n",
       "       [[1, 0, 0, ..., 0, 0, 0],\n",
       "        [0, 1, 0, ..., 0, 0, 0],\n",
       "        [0, 0, 0, ..., 0, 0, 0],\n",
       "        ...,\n",
       "        [0, 0, 0, ..., 0, 0, 0],\n",
       "        [0, 0, 0, ..., 0, 0, 0],\n",
       "        [0, 0, 0, ..., 1, 0, 0]],\n",
       "\n",
       "       [[0, 1, 0, ..., 0, 0, 0],\n",
       "        [0, 0, 0, ..., 0, 0, 0],\n",
       "        [0, 0, 0, ..., 0, 0, 0],\n",
       "        ...,\n",
       "        [0, 0, 0, ..., 0, 0, 0],\n",
       "        [0, 0, 0, ..., 1, 0, 0],\n",
       "        [0, 0, 0, ..., 0, 0, 1]],\n",
       "\n",
       "       ...,\n",
       "\n",
       "       [[1, 0, 0, ..., 0, 0, 0],\n",
       "        [0, 0, 0, ..., 0, 0, 0],\n",
       "        [0, 0, 0, ..., 0, 0, 0],\n",
       "        ...,\n",
       "        [0, 0, 0, ..., 0, 0, 0],\n",
       "        [0, 0, 0, ..., 0, 0, 0],\n",
       "        [0, 0, 0, ..., 0, 0, 0]],\n",
       "\n",
       "       [[1, 0, 0, ..., 0, 0, 0],\n",
       "        [0, 1, 0, ..., 0, 0, 0],\n",
       "        [0, 0, 0, ..., 0, 0, 0],\n",
       "        ...,\n",
       "        [0, 0, 0, ..., 0, 0, 0],\n",
       "        [0, 0, 0, ..., 0, 0, 0],\n",
       "        [0, 0, 0, ..., 0, 0, 0]],\n",
       "\n",
       "       [[0, 1, 0, ..., 0, 0, 0],\n",
       "        [0, 0, 0, ..., 0, 0, 0],\n",
       "        [0, 0, 0, ..., 0, 0, 0],\n",
       "        ...,\n",
       "        [0, 0, 0, ..., 0, 0, 0],\n",
       "        [0, 0, 0, ..., 0, 0, 0],\n",
       "        [0, 0, 0, ..., 0, 1, 0]]])"
      ]
     },
     "execution_count": 104,
     "metadata": {},
     "output_type": "execute_result"
    }
   ],
   "source": [
    "targets2 = (np.arange(80) == targets[...,None]-1).astype(int)\n",
    "print(targets2.shape)\n",
    "targets2"
   ]
  },
  {
   "cell_type": "code",
   "execution_count": 130,
   "metadata": {},
   "outputs": [
    {
     "name": "stdout",
     "output_type": "stream",
     "text": [
      "(100, 20)\n"
     ]
    },
    {
     "data": {
      "text/plain": [
       "array([[ 1,  3,  4, ..., 72, 73, 78],\n",
       "       [ 1,  2,  4, ..., 74, 77, 78],\n",
       "       [ 2,  4,  6, ..., 68, 78, 80],\n",
       "       ...,\n",
       "       [ 1,  4, 18, ..., 67, 73, 76],\n",
       "       [ 1,  2,  4, ..., 70, 75, 76],\n",
       "       [ 2,  4,  8, ..., 72, 76, 79]], dtype=int64)"
      ]
     },
     "execution_count": 130,
     "metadata": {},
     "output_type": "execute_result"
    }
   ],
   "source": [
    "effort = np.argmax(targets2, axis=2)\n",
    "effort = effort+1\n",
    "print(effort.shape)\n",
    "effort"
   ]
  },
  {
   "cell_type": "code",
   "execution_count": 131,
   "metadata": {},
   "outputs": [],
   "source": [
    "effort2 = effort"
   ]
  },
  {
   "cell_type": "code",
   "execution_count": 138,
   "metadata": {},
   "outputs": [
    {
     "name": "stdout",
     "output_type": "stream",
     "text": [
      "Average common numbers in  100  contests is  20.0\n"
     ]
    }
   ],
   "source": [
    "commonList = []\n",
    "for tarRow, predRow in zip(effort, effort2):\n",
    "    targetSet = set(tarRow)\n",
    "    predSet = set(predRow)\n",
    "    commonList.append(len(targetSet.intersection(predSet)))\n",
    "    \n",
    "print(\"Average common numbers in \", effort.shape[0], \" contests is \", np.array(commonList).mean())"
   ]
  }
 ],
 "metadata": {
  "kernelspec": {
   "display_name": "Python 3",
   "language": "python",
   "name": "python3"
  },
  "language_info": {
   "codemirror_mode": {
    "name": "ipython",
    "version": 3
   },
   "file_extension": ".py",
   "mimetype": "text/x-python",
   "name": "python",
   "nbconvert_exporter": "python",
   "pygments_lexer": "ipython3",
   "version": "3.7.7"
  }
 },
 "nbformat": 4,
 "nbformat_minor": 4
}
